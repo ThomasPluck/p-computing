{
 "cells": [
  {
   "attachments": {},
   "cell_type": "markdown",
   "metadata": {},
   "source": [
    "# More Complicated Invertible Logic\n",
    "\n",
    "In this notebook, we will tackle the topic of more general solvers, including both:\n",
    "\n",
    "1) Generalizing the Linear Programming Method to find more complicated primitives\n",
    "\n",
    "2) Combining Invertible Logic Primitives into much more complicated invertible circuits"
   ]
  },
  {
   "cell_type": "code",
   "execution_count": 95,
   "metadata": {},
   "outputs": [],
   "source": [
    "import pulp\n",
    "import numpy as np\n",
    "\n",
    "# Simple ease-of-use wrapper class\n",
    "class booleanFunction():\n",
    "\n",
    "    def __init__(self,num_args : int,executable : callable):\n",
    "\n",
    "        self.num_args = num_args\n",
    "        self.executable = executable\n",
    "\n",
    "    def __call__(self,args : list) -> bool:\n",
    "        return self.executable(args[:self.num_args])\n",
    "\n",
    "# Simple Hamiltonian finder\n",
    "def FindHamiltonian(boolfunc : booleanFunction, node_count : int) -> tuple[np.array, np.array]:\n",
    "\n",
    "    problem = pulp.LpProblem('problem',pulp.LpMinimize)\n",
    "\n",
    "    nn_1o2 = (node_count*(node_count-1))//2\n",
    "\n",
    "    # Energy\n",
    "    E = pulp.LpVariable('E',-nn_1o2**2,-1,'Continuous')\n",
    "    # Biases\n",
    "    h = pulp.LpVariable.dicts('h',([0],[i for i in range(node_count)]),-10,10,'Integer')\n",
    "    # Weights\n",
    "    j = pulp.LpVariable.dicts('j',([0],[i for i in range(nn_1o2)]),-10,10,'Integer')\n",
    "   \n",
    "    # Dummy summation variables\n",
    "    H_h, H_j = (0,0)\n",
    "\n",
    "    for i in range(2 ** node_count):\n",
    "        args = [2*((i >> j)%2)-1 for j in range(node_count)]\n",
    "        count = 0\n",
    "\n",
    "        # Initialize variables\n",
    "        H_hp = 0; H_jp = 0\n",
    "\n",
    "        # Build out constraints line by line\n",
    "        for idx,a in enumerate(args):\n",
    "            H_hp += a * h[0][idx]\n",
    "            \n",
    "            for jdx in range(idx+1,len(args)):\n",
    "                H_jp += args[jdx]*a*j[0][count]\n",
    "                count += 1\n",
    "\n",
    "        # Summed terms of final energy\n",
    "        H_h = H_h + H_hp\n",
    "        H_j = H_j + H_jp\n",
    "\n",
    "        # Do you satisfy the boolean function?\n",
    "        if boolfunc(args):\n",
    "            problem += (-1)*H_hp-H_jp-E == 0\n",
    "        else:\n",
    "            problem += (-1)*H_hp-H_jp-E-1 >= 0\n",
    "\n",
    "    # Define the energy\n",
    "    problem += -H_h-H_j-E\n",
    "\n",
    "    # Solve problem\n",
    "    status = problem.solve()\n",
    "\n",
    "    if status == -1:\n",
    "        raise AssertionError(\"No optimal solution found!\")\n",
    "\n",
    "    # Initialize output and pack\n",
    "    h_out = np.zeros(node_count)\n",
    "    J_out = np.zeros((node_count, node_count))\n",
    "    count = 0\n",
    "\n",
    "    for idx in range(node_count):\n",
    "        h_out[idx] = pulp.value(h[0][idx])\n",
    "\n",
    "        for jdx in range(idx+1,node_count):\n",
    "            J_out[idx][jdx] = pulp.value(j[0][count])\n",
    "            count += 1\n",
    "\n",
    "    J_out += J_out.T\n",
    "\n",
    "    return (h_out, J_out)"
   ]
  },
  {
   "attachments": {},
   "cell_type": "markdown",
   "metadata": {},
   "source": [
    "To start with, we'll implement an `XOR` gate. It seems as though this should be representable with 3 nodes, however an auxiliary node is required to encode all of the information to make a functional XOR gate work. These additional p-bits that don't have a direct interpretation to our function are called \"auxilliary bits\", in the convention that we use here, we list p-bits in our Hamiltonians in the following order:\n",
    "\n",
    "1) Input p-bits representing lines in\n",
    "2) Output p-bits representing lines out\n",
    "3) Auxiliary p-bits necessary for mathematical reasons\n",
    "\n",
    "Let us define an XOR gate and find its Hamiltonian with 3 nodes - observe that it doesn't, but in fact throws an error!"
   ]
  },
  {
   "cell_type": "code",
   "execution_count": 96,
   "metadata": {},
   "outputs": [
    {
     "name": "stdout",
     "output_type": "stream",
     "text": [
      "Welcome to the CBC MILP Solver \n",
      "Version: 2.10.3 \n",
      "Build Date: Dec 15 2019 \n",
      "\n",
      "command line - /home/thomas/.local/lib/python3.10/site-packages/pulp/solverdir/cbc/linux/64/cbc /tmp/9645fc298d414bd1973ab5eeab428386-pulp.mps timeMode elapsed branch printingOptions all solution /tmp/9645fc298d414bd1973ab5eeab428386-pulp.sol (default strategy 1)\n",
      "At line 2 NAME          MODEL\n",
      "At line 3 ROWS\n",
      "At line 13 COLUMNS\n",
      "At line 89 RHS\n",
      "At line 98 BOUNDS\n",
      "At line 113 ENDATA\n",
      "Problem MODEL has 8 rows, 7 columns and 56 elements\n",
      "Coin0008I MODEL read with 0 errors\n",
      "Option for timeMode changed from cpu to elapsed\n",
      "Problem is infeasible - 0.00 seconds\n",
      "Option for printingOptions changed from normal to all\n",
      "Total time (CPU seconds):       0.00   (Wallclock seconds):       0.00\n",
      "\n"
     ]
    },
    {
     "ename": "AssertionError",
     "evalue": "No optimal solution found!",
     "output_type": "error",
     "traceback": [
      "\u001b[0;31m---------------------------------------------------------------------------\u001b[0m",
      "\u001b[0;31mAssertionError\u001b[0m                            Traceback (most recent call last)",
      "Cell \u001b[0;32mIn[96], line 16\u001b[0m\n\u001b[1;32m     12\u001b[0m         \u001b[39msuper\u001b[39m()\u001b[39m.\u001b[39m\u001b[39m__init__\u001b[39m(\u001b[39m3\u001b[39m, xor)\n\u001b[1;32m     14\u001b[0m func \u001b[39m=\u001b[39m XOR()\n\u001b[0;32m---> 16\u001b[0m h, J \u001b[39m=\u001b[39m FindHamiltonian(func, \u001b[39m3\u001b[39;49m)\n\u001b[1;32m     18\u001b[0m \u001b[39mprint\u001b[39m(J,h)\n",
      "Cell \u001b[0;32mIn[95], line 64\u001b[0m, in \u001b[0;36mFindHamiltonian\u001b[0;34m(boolfunc, node_count)\u001b[0m\n\u001b[1;32m     61\u001b[0m status \u001b[39m=\u001b[39m problem\u001b[39m.\u001b[39msolve()\n\u001b[1;32m     63\u001b[0m \u001b[39mif\u001b[39;00m status \u001b[39m==\u001b[39m \u001b[39m-\u001b[39m\u001b[39m1\u001b[39m:\n\u001b[0;32m---> 64\u001b[0m     \u001b[39mraise\u001b[39;00m \u001b[39mAssertionError\u001b[39;00m(\u001b[39m\"\u001b[39m\u001b[39mNo optimal solution found!\u001b[39m\u001b[39m\"\u001b[39m)\n\u001b[1;32m     66\u001b[0m \u001b[39m# Initialize output and pack\u001b[39;00m\n\u001b[1;32m     67\u001b[0m h_out \u001b[39m=\u001b[39m np\u001b[39m.\u001b[39mzeros(node_count)\n",
      "\u001b[0;31mAssertionError\u001b[0m: No optimal solution found!"
     ]
    }
   ],
   "source": [
    "def xor(ab : list) -> int:\n",
    "    # assuming false -> -1\n",
    "    # ---||--- true -> +1\n",
    "    A = ab[0] > 0\n",
    "    B = ab[1] > 0\n",
    "    C = ab[2] > 0\n",
    "    return A ^ B == C \n",
    "\n",
    "class XOR(booleanFunction):\n",
    "\n",
    "    def __init__(self):\n",
    "        super().__init__(3, xor)\n",
    "\n",
    "func = XOR()\n",
    "\n",
    "h, J = FindHamiltonian(func, 3)\n",
    "\n",
    "print(J,h)"
   ]
  },
  {
   "attachments": {},
   "cell_type": "markdown",
   "metadata": {},
   "source": [
    "This error is as we suspected, let's try XOR now with some auxiliary p-bits."
   ]
  },
  {
   "cell_type": "code",
   "execution_count": 98,
   "metadata": {},
   "outputs": [
    {
     "name": "stdout",
     "output_type": "stream",
     "text": [
      "Welcome to the CBC MILP Solver \n",
      "Version: 2.10.3 \n",
      "Build Date: Dec 15 2019 \n",
      "\n",
      "command line - /home/thomas/.local/lib/python3.10/site-packages/pulp/solverdir/cbc/linux/64/cbc /tmp/f07b87502aac42c185a94916ee7f09c8-pulp.mps timeMode elapsed branch printingOptions all solution /tmp/f07b87502aac42c185a94916ee7f09c8-pulp.sol (default strategy 1)\n",
      "At line 2 NAME          MODEL\n",
      "At line 3 ROWS\n",
      "At line 21 COLUMNS\n",
      "At line 229 RHS\n",
      "At line 246 BOUNDS\n",
      "At line 269 ENDATA\n",
      "Problem MODEL has 16 rows, 11 columns and 176 elements\n",
      "Coin0008I MODEL read with 0 errors\n",
      "Option for timeMode changed from cpu to elapsed\n",
      "Problem is infeasible - 0.00 seconds\n",
      "Option for printingOptions changed from normal to all\n",
      "Total time (CPU seconds):       0.00   (Wallclock seconds):       0.00\n",
      "\n"
     ]
    },
    {
     "ename": "AssertionError",
     "evalue": "No optimal solution found!",
     "output_type": "error",
     "traceback": [
      "\u001b[0;31m---------------------------------------------------------------------------\u001b[0m",
      "\u001b[0;31mAssertionError\u001b[0m                            Traceback (most recent call last)",
      "Cell \u001b[0;32mIn[98], line 1\u001b[0m\n\u001b[0;32m----> 1\u001b[0m h, J \u001b[39m=\u001b[39m FindHamiltonian(func, \u001b[39m4\u001b[39;49m)\n\u001b[1;32m      3\u001b[0m \u001b[39mprint\u001b[39m(\u001b[39m\"\u001b[39m\u001b[39mJ =\u001b[39m\u001b[39m\\n\u001b[39;00m\u001b[39m\"\u001b[39m,J,\u001b[39m\"\u001b[39m\u001b[39m\\n\u001b[39;00m\u001b[39m\\n\u001b[39;00m\u001b[39mh =\u001b[39m\u001b[39m\\n\u001b[39;00m\u001b[39m\"\u001b[39m,h)\n",
      "Cell \u001b[0;32mIn[95], line 64\u001b[0m, in \u001b[0;36mFindHamiltonian\u001b[0;34m(boolfunc, node_count)\u001b[0m\n\u001b[1;32m     61\u001b[0m status \u001b[39m=\u001b[39m problem\u001b[39m.\u001b[39msolve()\n\u001b[1;32m     63\u001b[0m \u001b[39mif\u001b[39;00m status \u001b[39m==\u001b[39m \u001b[39m-\u001b[39m\u001b[39m1\u001b[39m:\n\u001b[0;32m---> 64\u001b[0m     \u001b[39mraise\u001b[39;00m \u001b[39mAssertionError\u001b[39;00m(\u001b[39m\"\u001b[39m\u001b[39mNo optimal solution found!\u001b[39m\u001b[39m\"\u001b[39m)\n\u001b[1;32m     66\u001b[0m \u001b[39m# Initialize output and pack\u001b[39;00m\n\u001b[1;32m     67\u001b[0m h_out \u001b[39m=\u001b[39m np\u001b[39m.\u001b[39mzeros(node_count)\n",
      "\u001b[0;31mAssertionError\u001b[0m: No optimal solution found!"
     ]
    }
   ],
   "source": [
    "h, J = FindHamiltonian(func, 4)\n",
    "\n",
    "print(\"J =\\n\",J,\"\\n\\nh =\\n\",h)"
   ]
  }
 ],
 "metadata": {
  "kernelspec": {
   "display_name": "Python 3",
   "language": "python",
   "name": "python3"
  },
  "language_info": {
   "codemirror_mode": {
    "name": "ipython",
    "version": 3
   },
   "file_extension": ".py",
   "mimetype": "text/x-python",
   "name": "python",
   "nbconvert_exporter": "python",
   "pygments_lexer": "ipython3",
   "version": "3.10.6"
  },
  "orig_nbformat": 4,
  "vscode": {
   "interpreter": {
    "hash": "e7370f93d1d0cde622a1f8e1c04877d8463912d04d973331ad4851f04de6915a"
   }
  }
 },
 "nbformat": 4,
 "nbformat_minor": 2
}
