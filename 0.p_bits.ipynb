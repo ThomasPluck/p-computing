{
 "cells": [
  {
   "attachments": {},
   "cell_type": "markdown",
   "metadata": {},
   "source": [
    "# p-Bits 101\n",
    "\n",
    "This is a series of notebooks which elaborates on the algorithmic aspects of probabilistic computing, which has emerged as an alternative computing technology in the last 5 years. Probabilistic computing is a descendant of stochastic computing - although, the two shouldn't be confused.\n",
    "\n",
    "Stochastic computing involves the use of uniform random bit-streams in conventional logic gates to arrive at analogues of computation - like flipping two coins and counting the pair of heads relative to coin flips and calling this multiplication of the two probabilities of a head on each individual coin.\n",
    "\n",
    "Probabilistic computing on the other hand, relies on p-bits, tunable noise sources that interact via an Ising model to create what are effectively small Boltzmann machines which can be thought of as \"invertible\" logic gates that form invertible logic circuits.\n",
    "\n",
    "The behaviour of a p-bit is described with the following equation:\n",
    "\n",
    "$$m = \\text{sgn}(U(-1,+1)+\\tanh(a))$$\n",
    "\n",
    "Where $m$ is the final state of the $m$, $sgn$ is the \"sign\" function, $U(-1,+1)$ represents the uniform probability between in the interval $(-1,+1)$ and $a$ is an activation term.\n",
    "\n",
    "Below, we'll define a simple p-bit and the change its activation to demonstrate its behaviour clearly:"
   ]
  },
  {
   "cell_type": "code",
   "execution_count": 5,
   "metadata": {},
   "outputs": [
    {
     "name": "stdout",
     "output_type": "stream",
     "text": [
      "1\n"
     ]
    },
    {
     "data": {
      "text/plain": [
       "<BarContainer object of 2 artists>"
      ]
     },
     "execution_count": 5,
     "metadata": {},
     "output_type": "execute_result"
    },
    {
     "data": {
      "image/png": "[encoded data removed]",
      "text/plain": [
       "<Figure size 1200x300 with 4 Axes>"
      ]
     },
     "metadata": {},
     "output_type": "display_data"
    }
   ],
   "source": [
    "from random import uniform\n",
    "from math import tanh\n",
    "import matplotlib.pyplot as plt\n",
    "\n",
    "class pbit():\n",
    "\n",
    "    def __init__(self, clamped=None):\n",
    "\n",
    "        self.activation = 0\n",
    "        self.clamped = None \n",
    "        if clamped != None:\n",
    "            self.clamped = clamped\n",
    "    \n",
    "    def sample(self):\n",
    "        if self.clamped != None:\n",
    "            return self.clamped\n",
    "        return self.__sgn(uniform(-1,1)+tanh(self.activation))\n",
    "\n",
    "    def __sgn(self,i):\n",
    "        if i <= 0:\n",
    "            return -1\n",
    "        return 1\n",
    "\n",
    "fig,axs = plt.subplots(1,4,figsize=(12,3))\n",
    "num_samples = 100\n",
    "\n",
    "# Iterate through a few different activation values\n",
    "for i in range(3):\n",
    "    samples = []\n",
    "\n",
    "    my_first_pbit = pbit()\n",
    "    my_first_pbit.activation = -1 + i\n",
    "\n",
    "    for j in range(num_samples):\n",
    "        samples.append(my_first_pbit.sample())\n",
    "\n",
    "    val = sum([s < 0 for s in samples])\n",
    "\n",
    "    axs[i].set_title(f\"Activation: {-1+i}\")\n",
    "    axs[i].bar([-1,1],[val,num_samples-val])\n",
    "\n",
    "# Just a quick example to explain clamping behaviour\n",
    "samples = []\n",
    "my_first_pbit = pbit(1)\n",
    "print(my_first_pbit.clamped)\n",
    "for j in range(num_samples):\n",
    "    samples.append(my_first_pbit.sample())\n",
    "\n",
    "val = sum([s < 0 for s in samples])\n",
    "\n",
    "axs[3].set_title(f\"Clamped: {1}\")\n",
    "axs[3].bar([-1,1],[val,num_samples-val])\n"
   ]
  }
 ],
 "metadata": {
  "kernelspec": {
   "display_name": "Python 3",
   "language": "python",
   "name": "python3"
  },
  "language_info": {
   "codemirror_mode": {
    "name": "ipython",
    "version": 3
   },
   "file_extension": ".py",
   "mimetype": "text/x-python",
   "name": "python",
   "nbconvert_exporter": "python",
   "pygments_lexer": "ipython3",
   "version": "3.10.6"
  },
  "orig_nbformat": 4,
  "vscode": {
   "interpreter": {
    "hash": "e7370f93d1d0cde622a1f8e1c04877d8463912d04d973331ad4851f04de6915a"
   }
  }
 },
 "nbformat": 4,
 "nbformat_minor": 2
}
