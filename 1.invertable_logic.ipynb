{
 "cells": [
  {
   "attachments": {},
   "cell_type": "markdown",
   "metadata": {},
   "source": [
    "# Understanding Invertible Logic Gates\n",
    "\n",
    "p-Bits can be understood as a Bernoulli variable parameterized by a probability $p$ - ie. when a p-bit is measured a proportion $p$ of the time it will be $1$ and $1-p$ of the time it will be a $0$. We usually let this $p$ parameter be controlled by some external source which can turn up or turn down $p$.\n",
    "\n",
    "In this way, multiple p-bits can be connected together to form small Boltzmann machines. Boltzmann machines can be thought of as neural nets which recursively propagate a stochastic signal through itself. If we want to find particularly useful functions of these Boltzmann machines, we can use linear programming that finds weight and bias terms that are congruent with a desired function. To do this we first define the energy of a given Boltzmann machine, in terms of its biases and p-bit output it given by the following equation:\n",
    "\n",
    "$$\n",
    "\\begin{equation*} H = - \\sum _{i} h_{i} m_{i} - \\sum _{i < j} J_{ij} m_{i} m_{j}. \\tag{1}\\end{equation*}\n",
    "$$\n",
    "\n",
    "Where $m_i$ is the output of the $i^{\\text{th}}$ p-bit and $J_{ij}$ is the weight between and $h_i$ is the bias term. We fix the energy profile of the behaviour that we would like to see, and then we use linear programming to find the $J_{ij}$ and $h_{i}$ that create this energy profile given a certain input.\n",
    "\n",
    "For example, if we were trying to define a Boltzmann AND-gate (in p-computing this called the invertible AND), we'd define the following energy profile:\n",
    "\n",
    "A | B | C = AND(A,B)| Valid? | H (Energy) |\n",
    "--|---|---|--------|---|\n",
    "-1 | -1 | -1 |Yes|$E_0 = E_{min}$|\n",
    "-1 | +1 | -1 |Yes|$E_1 = E_{min}$|\n",
    "+1 | -1 | -1 |Yes|$E_2 = E_{min}$|\n",
    "+1 | +1 | -1 |No|$E_3 \\geq E_{min} + d$|\n",
    "-1 | -1 | +1 |No|$E_4 \\geq E_{min} + d$|\n",
    "-1 | +1 | +1 |No|$E_5 \\geq E_{min} + d$|\n",
    "+1 | -1 | +1 |No|$E_6 \\geq E_{min} + d$|\n",
    "+1 | +1 | +1 |Yes|$E_7 = E_{min}$|\n",
    "\n",
    "For each state, we describe the energy that we would like to see from our Boltzmann machine and then we use Linear Programming to find the weights and biases necessary to create this energy profile."
   ]
  },
  {
   "cell_type": "code",
   "execution_count": 66,
   "metadata": {},
   "outputs": [
    {
     "data": {
      "text/plain": [
       "<bound method LpProblem.coefficients of AND:\n",
       "MINIMIZE\n",
       "-1*E + 0*h_0_0 + 0*h_0_1 + 0*h_0_2 + 0*j_0_0 + 0*j_0_1 + 0*j_0_2 + 0\n",
       "SUBJECT TO\n",
       "_C1: - E + h_0_0 + h_0_1 + h_0_2 - j_0_0 - j_0_1 - j_0_2 = 0\n",
       "\n",
       "_C2: - E + h_0_0 - h_0_1 + h_0_2 + j_0_0 + j_0_1 - j_0_2 = 0\n",
       "\n",
       "_C3: - E - h_0_0 + h_0_1 + h_0_2 + j_0_0 - j_0_1 + j_0_2 = 0\n",
       "\n",
       "_C4: - E - h_0_0 - h_0_1 + h_0_2 - j_0_0 + j_0_1 + j_0_2 >= 1\n",
       "\n",
       "_C5: - E + h_0_0 + h_0_1 - h_0_2 - j_0_0 + j_0_1 + j_0_2 >= 1\n",
       "\n",
       "_C6: - E + h_0_0 - h_0_1 - h_0_2 + j_0_0 - j_0_1 + j_0_2 >= 1\n",
       "\n",
       "_C7: - E - h_0_0 + h_0_1 - h_0_2 + j_0_0 + j_0_1 - j_0_2 >= 1\n",
       "\n",
       "_C8: - E - h_0_0 - h_0_1 - h_0_2 - j_0_0 - j_0_1 - j_0_2 = 0\n",
       "\n",
       "VARIABLES\n",
       "-10 <= E <= 10 Continuous\n",
       "-5 <= h_0_0 <= 5 Integer\n",
       "-5 <= h_0_1 <= 5 Integer\n",
       "-5 <= h_0_2 <= 5 Integer\n",
       "-5 <= j_0_0 <= 5 Integer\n",
       "-5 <= j_0_1 <= 5 Integer\n",
       "-5 <= j_0_2 <= 5 Integer\n",
       ">"
      ]
     },
     "execution_count": 66,
     "metadata": {},
     "output_type": "execute_result"
    }
   ],
   "source": [
    "import pulp\n",
    "\n",
    "problem = pulp.LpProblem('AND',pulp.LpMinimize)\n",
    "\n",
    "# Energy\n",
    "E = pulp.LpVariable('E',-10,10,'Continuous')\n",
    "# Biases\n",
    "h = pulp.LpVariable.dicts('h',([0],[0,1,2]),-5,5,'Integer')\n",
    "# Weights\n",
    "j = pulp.LpVariable.dicts('j',([0],[0,1,2]),-5,5,'Integer')\n",
    "\n",
    "# Dummy summation variables\n",
    "H_h, H_j = (0,0)\n",
    "\n",
    "# Iterate over rows of the above table\n",
    "for i in range(8):\n",
    "    # Generate correct values\n",
    "    A = 2 * int(i % 4 >= 2) - 1\n",
    "    B = 2 * (i % 2) - 1\n",
    "    C = 2 * int(i >= 4) - 1\n",
    "\n",
    "    # Individual terms of final energy\n",
    "    H_hp = A*h[0][0] + B*h[0][1] + C*h[0][2]\n",
    "    H_jp = A*B*j[0][0] + B*C*j[0][1] + A*C*j[0][2]\n",
    "\n",
    "    # Summed terms of final energy\n",
    "    H_h = H_h + H_hp\n",
    "    H_j = H_j + H_jp\n",
    "\n",
    "    # Add energy constraints determined above\n",
    "    if (A > 0) & (B > 0) == (C > 0):\n",
    "        problem += (-1)*H_hp-H_jp-E == 0\n",
    "    else:\n",
    "        problem += (-1)*H_hp-H_jp-E-1 >= 0\n",
    "\n",
    "# Finally layout the objective function to minimize\n",
    "problem += -H_h-H_j-E\n",
    "\n",
    "# Check that problem described is what was intended\n",
    "problem.coefficients"
   ]
  },
  {
   "cell_type": "code",
   "execution_count": 67,
   "metadata": {},
   "outputs": [
    {
     "name": "stdout",
     "output_type": "stream",
     "text": [
      "Welcome to the CBC MILP Solver \n",
      "Version: 2.10.3 \n",
      "Build Date: Dec 15 2019 \n",
      "\n",
      "command line - /home/thomas/.local/lib/python3.10/site-packages/pulp/solverdir/cbc/linux/64/cbc /tmp/c97a3ec3c5464370b511003a8a6427a4-pulp.mps timeMode elapsed branch printingOptions all solution /tmp/c97a3ec3c5464370b511003a8a6427a4-pulp.sol (default strategy 1)\n",
      "At line 2 NAME          MODEL\n",
      "At line 3 ROWS\n",
      "At line 13 COLUMNS\n",
      "At line 89 RHS\n",
      "At line 98 BOUNDS\n",
      "At line 113 ENDATA\n",
      "Problem MODEL has 8 rows, 7 columns and 56 elements\n",
      "Coin0008I MODEL read with 0 errors\n",
      "Option for timeMode changed from cpu to elapsed\n",
      "Continuous objective value is 0.75 - 0.00 seconds\n",
      "Cgl0004I processed model has 8 rows, 7 columns (6 integer (0 of which binary)) and 56 elements\n",
      "Cutoff increment increased from 1e-05 to 0.9999\n",
      "Cbc0012I Integer solution of 3 found by DiveCoefficient after 5 iterations and 0 nodes (0.00 seconds)\n",
      "Cbc0031I 1 added rows had average density of 7\n",
      "Cbc0013I At root node, 1 cuts changed objective from 0.75 to 2.9999997 in 2 passes\n",
      "Cbc0014I Cut generator 0 (Probing) - 0 row cuts average 0.0 elements, 0 column cuts (0 active)  in 0.000 seconds - new frequency is -100\n",
      "Cbc0014I Cut generator 1 (Gomory) - 6 row cuts average 5.0 elements, 0 column cuts (0 active)  in 0.000 seconds - new frequency is 1\n",
      "Cbc0014I Cut generator 2 (Knapsack) - 0 row cuts average 0.0 elements, 0 column cuts (0 active)  in 0.000 seconds - new frequency is -100\n",
      "Cbc0014I Cut generator 3 (Clique) - 0 row cuts average 0.0 elements, 0 column cuts (0 active)  in 0.000 seconds - new frequency is -100\n",
      "Cbc0014I Cut generator 4 (MixedIntegerRounding2) - 0 row cuts average 0.0 elements, 0 column cuts (0 active)  in 0.000 seconds - new frequency is -100\n",
      "Cbc0014I Cut generator 5 (FlowCover) - 0 row cuts average 0.0 elements, 0 column cuts (0 active)  in 0.000 seconds - new frequency is -100\n",
      "Cbc0014I Cut generator 6 (TwoMirCuts) - 5 row cuts average 1.2 elements, 0 column cuts (0 active)  in 0.000 seconds - new frequency is 1\n",
      "Cbc0001I Search completed - best objective 3, took 5 iterations and 0 nodes (0.00 seconds)\n",
      "Cbc0035I Maximum depth 0, 0 variables fixed on reduced cost\n",
      "Cuts at root node changed objective from 0.75 to 3\n",
      "Probing was tried 2 times and created 0 cuts of which 0 were active after adding rounds of cuts (0.000 seconds)\n",
      "Gomory was tried 2 times and created 6 cuts of which 0 were active after adding rounds of cuts (0.000 seconds)\n",
      "Knapsack was tried 2 times and created 0 cuts of which 0 were active after adding rounds of cuts (0.000 seconds)\n",
      "Clique was tried 2 times and created 0 cuts of which 0 were active after adding rounds of cuts (0.000 seconds)\n",
      "MixedIntegerRounding2 was tried 2 times and created 0 cuts of which 0 were active after adding rounds of cuts (0.000 seconds)\n",
      "FlowCover was tried 2 times and created 0 cuts of which 0 were active after adding rounds of cuts (0.000 seconds)\n",
      "TwoMirCuts was tried 2 times and created 5 cuts of which 0 were active after adding rounds of cuts (0.000 seconds)\n",
      "ZeroHalf was tried 1 times and created 0 cuts of which 0 were active after adding rounds of cuts (0.000 seconds)\n",
      "\n",
      "Result - Optimal solution found\n",
      "\n",
      "Objective value:                3.00000000\n",
      "Enumerated nodes:               0\n",
      "Total iterations:               5\n",
      "Time (CPU seconds):             0.00\n",
      "Time (Wallclock seconds):       0.00\n",
      "\n",
      "Option for printingOptions changed from normal to all\n",
      "Total time (CPU seconds):       0.00   (Wallclock seconds):       0.00\n",
      "\n"
     ]
    },
    {
     "data": {
      "text/plain": [
       "1"
      ]
     },
     "execution_count": 67,
     "metadata": {},
     "output_type": "execute_result"
    }
   ],
   "source": [
    "# Solve problem in question\n",
    "problem.solve()"
   ]
  },
  {
   "cell_type": "code",
   "execution_count": 68,
   "metadata": {},
   "outputs": [
    {
     "name": "stdout",
     "output_type": "stream",
     "text": [
      "J_AB= -1.0\n",
      "J_BC= 2.0\n",
      "J_AC= 2.0\n",
      "- - - - - \n",
      "h_A= 1.0\n",
      "h_B= 1.0\n",
      "h_C= -2.0\n"
     ]
    }
   ],
   "source": [
    "# Get final values of output\n",
    "print(\"J_AB=\",pulp.value(j[0][0]))\n",
    "print(\"J_BC=\",pulp.value(j[0][1]))\n",
    "print(\"J_AC=\",pulp.value(j[0][2]))\n",
    "print(\"- \"*5)\n",
    "print(\"h_A=\",pulp.value(h[0][0]))\n",
    "print(\"h_B=\",pulp.value(h[0][1]))\n",
    "print(\"h_C=\",pulp.value(h[0][2]))"
   ]
  },
  {
   "attachments": {},
   "cell_type": "markdown",
   "metadata": {},
   "source": [
    "This gives us the weights and biases that we desire, and gives us the final Hamiltonian that we seek:\n",
    "\n",
    "$$\n",
    "J_{AND} = \n",
    "\\begin{bmatrix}\n",
    "J_{AA} & J_{AB} & J_{AC} \\\\\n",
    "J_{BA} & J_{BB} & J_{BC} \\\\\n",
    "J_{CA} & J_{CB} & J_{CC} \n",
    "\\end{bmatrix} =\n",
    "\\begin{bmatrix}\n",
    "0 & -1 & +2 \\\\\n",
    "-1 & 0 & +2 \\\\\n",
    "+2 & +2 & 0 \n",
    "\\end{bmatrix}\n",
    "\\qquad\n",
    "h = \\begin{bmatrix}\n",
    "+1 & +1 & -2\n",
    "\\end{bmatrix}\n",
    "$$\n",
    "\n",
    "This acts as our update rule across the Boltzmann Machine, and with it we can do a preliminary simulation of p-bit computation and see exactly why what we've found is actually an \"invertible\" logic gate."
   ]
  },
  {
   "cell_type": "code",
   "execution_count": 167,
   "metadata": {},
   "outputs": [],
   "source": [
    "import numpy as np\n",
    "from objects import pbit\n",
    "\n",
    "# Here we first describe the general p-bit network\n",
    "class pbit_network:\n",
    "    def __init__(self, pbits: list, J: np.array, h: np.array):\n",
    "\n",
    "        self.pbits = pbits\n",
    "        self.J = J\n",
    "        self.h = h\n",
    "\n",
    "    def step(self, dt = 1):\n",
    "\n",
    "        sample = [p.sample() for p in self.pbits]\n",
    "        forward = (self.J * dt) @ np.array(sample).T + self.h * dt\n",
    "\n",
    "        for idx, p in enumerate(self.pbits):\n",
    "            p.activation = forward[idx]\n",
    "\n",
    "    def sample(self):\n",
    "        return [p.sample() for p in self.pbits]\n",
    "\n",
    "\n",
    "class AND(pbit_network):\n",
    "\n",
    "    def __init__(self):\n",
    "\n",
    "        # Note in this format we take the first two pbits to be inputs A,B\n",
    "        # and the final pbit to be the output C = AND(A,B)\n",
    "        J = np.array([[0, -1, 2], [-1, 0, 2], [2, 2, 0]])\n",
    "        h = np.array([1, 1, -2])\n",
    "        super().__init__([pbit(), pbit(), pbit()], J, h)"
   ]
  },
  {
   "attachments": {},
   "cell_type": "markdown",
   "metadata": {},
   "source": [
    "We'll now run two experiments to see exactly what we mean by an invertible logic gate:\n",
    "\n",
    "##### Experiment 1 - Ordinary Logic Gate\n",
    "\n",
    "We should expect that if we clamp A and B to different values that we get the correct result, ie. C = AND(A,B).\n",
    "\n",
    "##### Experiment 2 - Invertibility\n",
    "\n",
    "Our logic gate is invertible, that means that if we clamp C to some output - statistically, A and B will converge to values such that AND(A,B) will be the C we clamped."
   ]
  },
  {
   "cell_type": "code",
   "execution_count": 114,
   "metadata": {},
   "outputs": [
    {
     "name": "stdout",
     "output_type": "stream",
     "text": [
      "- - - EXPERIMENT 1 - - -\n",
      "\n",
      "0 AND 0 = 0.0\n",
      "1 AND 0 = 0.02\n",
      "0 AND 1 = 0.0\n",
      "1 AND 1 = 0.97\n"
     ]
    }
   ],
   "source": [
    "# Experiment 1\n",
    "\n",
    "print(\"- - - EXPERIMENT 1 - - -\\n\")\n",
    "\n",
    "num_steps = 10\n",
    "num_samples = 100\n",
    "\n",
    "# Iterate over possible inputs\n",
    "for i in range(4):\n",
    "\n",
    "    and_gate = AND()\n",
    "\n",
    "    A = 2 * (i % 2) - 1\n",
    "    B = 2 * (i // 2) - 1\n",
    "\n",
    "    and_gate.pbits[0].clamped = A\n",
    "    and_gate.pbits[1].clamped = B\n",
    "\n",
    "    # Let it converge\n",
    "    for i in range(num_steps):\n",
    "        and_gate.step()\n",
    "\n",
    "    # Take some samples\n",
    "    samples = []\n",
    "    for i in range(num_samples):\n",
    "        samples.append(and_gate.sample())\n",
    "\n",
    "    count = sum([s[2] > 0 for s in samples])\n",
    "\n",
    "    print(f\"{(A+1)//2} AND {(B+1)//2} = {count/num_samples}\")"
   ]
  },
  {
   "cell_type": "code",
   "execution_count": 139,
   "metadata": {},
   "outputs": [
    {
     "name": "stdout",
     "output_type": "stream",
     "text": [
      "- - - EXPERIMENT 2 - - -\n",
      "\n",
      "C=0 implies AND(A,B)=0.01\n",
      "C=1 implies AND(A,B)=0.97\n"
     ]
    }
   ],
   "source": [
    "# Experiment 2\n",
    "\n",
    "num_steps = 10\n",
    "num_samples = 100\n",
    "\n",
    "print(\"- - - EXPERIMENT 2 - - -\\n\")\n",
    "\n",
    "# Iterate over possible inputs\n",
    "for i in range(2):\n",
    "\n",
    "    and_gate = AND()\n",
    "\n",
    "    C = 2 * i - 1\n",
    "\n",
    "    and_gate.pbits[2].clamped = C\n",
    "\n",
    "    # Let it converge\n",
    "    for i in range(num_steps):\n",
    "        and_gate.step()\n",
    "\n",
    "    # Take some samples\n",
    "    samples = []\n",
    "    for i in range(num_samples):\n",
    "        samples.append(and_gate.sample())\n",
    "\n",
    "    countA = sum([(s[0] > 0) & (s[1] > 0)for s in samples])\n",
    "\n",
    "    print(f\"C={(C+1)//2} implies AND(A,B)={countA/num_samples}\")"
   ]
  },
  {
   "attachments": {},
   "cell_type": "markdown",
   "metadata": {},
   "source": [
    "So we can clearly see the reversibility in action. We'll conduct one final experiment to precisely explain the exact nature of this invertibility:\n",
    "\n",
    "##### Experiment 3 - Inversion Distribution\n",
    "\n",
    "If AND(A,B) = 0, there are 3 possible combinations"
   ]
  },
  {
   "cell_type": "code",
   "execution_count": 160,
   "metadata": {},
   "outputs": [
    {
     "name": "stdout",
     "output_type": "stream",
     "text": [
      "C=0 implies\n",
      "\n",
      "P(0&0)=0.27\n",
      "P(0&1)=0.27\n",
      "P(1&0)=0.26\n",
      "P(1&1)=0.2\n"
     ]
    }
   ],
   "source": [
    "num_steps = 10\n",
    "num_samples = 100\n",
    "\n",
    "and_gate = AND()\n",
    "\n",
    "C = -1\n",
    "\n",
    "and_gate.pbits[2].clamped = C\n",
    "\n",
    "# Let it converge\n",
    "for i in range(num_steps):\n",
    "    and_gate.step()\n",
    "\n",
    "# Take some samples\n",
    "samples = []\n",
    "for i in range(num_samples):\n",
    "    samples.append(and_gate.sample())\n",
    "\n",
    "count00 = sum([(s[0] < 0) & (s[1] < 0)for s in samples])\n",
    "count01 = sum([(s[0] < 0) & (s[1] > 0)for s in samples])\n",
    "count10 = sum([(s[0] > 0) & (s[1] < 0)for s in samples])\n",
    "count11 = sum([(s[0] > 0) & (s[1] > 0)for s in samples])\n",
    "\n",
    "print(f\"C={(C+1)//2} implies\\n\\nP(0&0)={count00/num_samples}\\nP(0&1)={count01/num_samples}\\nP(1&0)={count10/num_samples}\\nP(1&1)={count11/num_samples}\")"
   ]
  },
  {
   "attachments": {},
   "cell_type": "markdown",
   "metadata": {},
   "source": [
    "Depending on the random seed, the network has a tendency to converge to different distributions of \"the most likely answer\". This appears to be fairly random in how it converges - let's see if an average begins to emerge:\n",
    "\n",
    "##### Experiment 4 - Inversion Statistics\n",
    "\n",
    "We explore the final statistics more closely."
   ]
  },
  {
   "cell_type": "code",
   "execution_count": 174,
   "metadata": {},
   "outputs": [
    {
     "name": "stdout",
     "output_type": "stream",
     "text": [
      "C=0 implies\n",
      "\n",
      "P(0&0) mean:0.44537, std:0.22902852027640572\n",
      "P(0&1) mean:0.21835000000000002, std:0.1793744059223612\n",
      "P(1&0) mean:0.22303, std:0.18073217505469247\n",
      "P(1&1) mean:0.11325, std:0.12345257186466388\n"
     ]
    }
   ],
   "source": [
    "from numpy import mean, std\n",
    "\n",
    "p00 = []\n",
    "p01 = []\n",
    "p10 = []\n",
    "p11 = []\n",
    "\n",
    "num_steps = 1000\n",
    "num_samples = 100\n",
    "\n",
    "for i in range(1000):\n",
    "    and_gate = AND()\n",
    "\n",
    "    C = -1\n",
    "\n",
    "    and_gate.pbits[2].clamped = C\n",
    "\n",
    "    # Let it converge\n",
    "    for i in range(num_steps):\n",
    "        and_gate.step(dt=1)\n",
    "\n",
    "    # Take some samples\n",
    "    samples = []\n",
    "    for i in range(num_samples):\n",
    "        samples.append(and_gate.sample())\n",
    "\n",
    "    p01.append(sum([(s[0] < 0) & (s[1] > 0)for s in samples])/num_samples)\n",
    "    p10.append(sum([(s[0] > 0) & (s[1] < 0)for s in samples])/num_samples)\n",
    "    p00.append(sum([(s[0] < 0) & (s[1] < 0)for s in samples])/num_samples)\n",
    "    p11.append(sum([(s[0] > 0) & (s[1] > 0)for s in samples])/num_samples)\n",
    "\n",
    "print(f\"C={(C+1)//2} implies\\n\\nP(0&0) mean:{mean(p00)}, std:{std(p00)}\")\n",
    "print(f\"P(0&1) mean:{mean(p01)}, std:{std(p01)}\")\n",
    "print(f\"P(1&0) mean:{mean(p10)}, std:{std(p10)}\")\n",
    "print(f\"P(1&1) mean:{mean(p11)}, std:{std(p11)}\")"
   ]
  }
 ],
 "metadata": {
  "kernelspec": {
   "display_name": "Python 3",
   "language": "python",
   "name": "python3"
  },
  "language_info": {
   "codemirror_mode": {
    "name": "ipython",
    "version": 3
   },
   "file_extension": ".py",
   "mimetype": "text/x-python",
   "name": "python",
   "nbconvert_exporter": "python",
   "pygments_lexer": "ipython3",
   "version": "3.10.6"
  },
  "orig_nbformat": 4,
  "vscode": {
   "interpreter": {
    "hash": "e7370f93d1d0cde622a1f8e1c04877d8463912d04d973331ad4851f04de6915a"
   }
  }
 },
 "nbformat": 4,
 "nbformat_minor": 2
}
