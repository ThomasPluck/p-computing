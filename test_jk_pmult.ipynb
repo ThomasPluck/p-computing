{
 "cells": [
  {
   "cell_type": "code",
   "execution_count": 6,
   "metadata": {},
   "outputs": [
    {
     "data": {
      "text/plain": [
       "'Factorization Target 25031 × 57839 = 1447768009'"
      ]
     },
     "execution_count": 6,
     "metadata": {},
     "output_type": "execute_result"
    }
   ],
   "source": [
    "import random\n",
    "from sympy import isprime\n",
    "\n",
    "import random\n",
    "\n",
    "N = 32\n",
    "\n",
    "def miller_rabin(n, k): # number of tests to run\n",
    "    if n == 2 or n == 3:\n",
    "        return True\n",
    "\n",
    "    if n <= 1 or n % 2 == 0:\n",
    "        return False\n",
    "\n",
    "    # write n-1 as 2^r * d\n",
    "    r, d = 0, n - 1\n",
    "    while d % 2 == 0:\n",
    "        r += 1\n",
    "        d //= 2\n",
    "\n",
    "    # witness loop\n",
    "    for _ in range(k):\n",
    "        a = random.randrange(2, n - 1)\n",
    "        x = pow(a, d, n)\n",
    "        if x == 1 or x == n - 1:\n",
    "            continue\n",
    "        for _ in range(r - 1):\n",
    "            x = pow(x, 2, n)\n",
    "            if x == n - 1:\n",
    "                break\n",
    "        else:\n",
    "            return False\n",
    "    return True\n",
    "\n",
    "def generate_large_prime(n_bits, k=10):\n",
    "    while True:\n",
    "        p = random.getrandbits(n_bits)\n",
    "        if miller_rabin(p, k):\n",
    "            return p\n",
    "\n",
    "# Generate a large prime of approximately 2^32 size\n",
    "is_prime1 = False\n",
    "is_prime2 = False\n",
    "\n",
    "while not is_prime1 and not is_prime2:\n",
    "\n",
    "    # Generate two large primes\n",
    "    prime1 = generate_large_prime(N//2)\n",
    "    prime2 = generate_large_prime(N//2)\n",
    "\n",
    "    # Test if:\n",
    "    # 1. They are not equal\n",
    "    # 2. They are both prime\n",
    "    # 3. Their product is less than 2^64\n",
    "    if (\n",
    "        prime1 != prime2 and \n",
    "        isprime(prime1) and \n",
    "        isprime(prime2) and \n",
    "        prime1 * prime2 < 2 ** N\n",
    "    ):\n",
    "        \n",
    "        is_prime1 = True\n",
    "        is_prime2 = True\n",
    "\n",
    "semiprime = prime1 * prime2\n",
    "\n",
    "f\"Factorization Target {prime1} \\u00d7 {prime2} = {semiprime}\""
   ]
  },
  {
   "cell_type": "code",
   "execution_count": 7,
   "metadata": {},
   "outputs": [
    {
     "name": "stderr",
     "output_type": "stream",
     "text": [
      "Cracking 40-bit Semiprime: 332295iter [11:51, 466.97iter/s] \n"
     ]
    },
    {
     "name": "stdout",
     "output_type": "stream",
     "text": [
      "Factorization found 57839 × 25031 = 1447768009\n"
     ]
    },
    {
     "name": "stderr",
     "output_type": "stream",
     "text": []
    }
   ],
   "source": [
    "from jung_kim_pmultiplier import JK_Multiplier\n",
    "from tqdm import tqdm\n",
    "\n",
    "pm = JK_Multiplier(n=N,N=semiprime)\n",
    "\n",
    "pbar = tqdm(desc=f\"Cracking {N}-bit Semiprime\", unit=\"iter\", dynamic_ncols=True)\n",
    "\n",
    "while True:\n",
    "\n",
    "    pbar.update()\n",
    "\n",
    "    if pm.loop():\n",
    "\n",
    "        if semiprime % pm._bin_to_int(pm.X) == 0:\n",
    "            print(f\"Factorization found {pm._bin_to_int(pm.X)} \\u00d7 {semiprime // pm._bin_to_int(pm.X)} = {semiprime}\")\n",
    "        elif semiprime % pm._bin_to_int(pm.Y) == 0:\n",
    "            print(f\"Factorization found {pm._bin_to_int(pm.Y)} \\u00d7 {semiprime // pm._bin_to_int(pm.Y)} = {semiprime}\")\n",
    "        else:\n",
    "            print(\"Error\")\n",
    "\n",
    "        break"
   ]
  }
 ],
 "metadata": {
  "kernelspec": {
   "display_name": "Python 3",
   "language": "python",
   "name": "python3"
  },
  "language_info": {
   "codemirror_mode": {
    "name": "ipython",
    "version": 3
   },
   "file_extension": ".py",
   "mimetype": "text/x-python",
   "name": "python",
   "nbconvert_exporter": "python",
   "pygments_lexer": "ipython3",
   "version": "3.10.6"
  },
  "orig_nbformat": 4
 },
 "nbformat": 4,
 "nbformat_minor": 2
}
